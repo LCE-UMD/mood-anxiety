{
 "cells": [
  {
   "cell_type": "code",
   "execution_count": 2,
   "metadata": {},
   "outputs": [],
   "source": [
    "library(brms)\n",
    "library(dplyr)\n",
    "library(parallel)"
   ]
  },
  {
   "cell_type": "code",
   "execution_count": 5,
   "metadata": {},
   "outputs": [],
   "source": [
    "# Load the BML output (.RData)\n",
    "hem <- 'left'\n",
    "phase <- 'early'\n",
    "\n",
    "load(paste0('results_offset/',hem,'_insula_',phase,'.RData'))"
   ]
  },
  {
   "cell_type": "code",
   "execution_count": 6,
   "metadata": {},
   "outputs": [
    {
     "data": {
      "text/html": [
       "<style>\n",
       ".list-inline {list-style: none; margin:0; padding: 0}\n",
       ".list-inline>li {display: inline-block}\n",
       ".list-inline>li:not(:last-child)::after {content: \"\\00b7\"; padding: 0 .5ex}\n",
       "</style>\n",
       "<ol class=list-inline><li>'chains'</li><li>'dataTable'</li><li>'df'</li><li>'fm'</li><li>'hem'</li><li>'iterations'</li><li>'mod'</li><li>'modelForm'</li><li>'nfigs'</li><li>'ns'</li><li>'phase'</li><li>'priorRBA'</li><li>'SCALE'</li><li>'stan_code'</li></ol>\n"
      ],
      "text/latex": [
       "\\begin{enumerate*}\n",
       "\\item 'chains'\n",
       "\\item 'dataTable'\n",
       "\\item 'df'\n",
       "\\item 'fm'\n",
       "\\item 'hem'\n",
       "\\item 'iterations'\n",
       "\\item 'mod'\n",
       "\\item 'modelForm'\n",
       "\\item 'nfigs'\n",
       "\\item 'ns'\n",
       "\\item 'phase'\n",
       "\\item 'priorRBA'\n",
       "\\item 'SCALE'\n",
       "\\item 'stan\\_code'\n",
       "\\end{enumerate*}\n"
      ],
      "text/markdown": [
       "1. 'chains'\n",
       "2. 'dataTable'\n",
       "3. 'df'\n",
       "4. 'fm'\n",
       "5. 'hem'\n",
       "6. 'iterations'\n",
       "7. 'mod'\n",
       "8. 'modelForm'\n",
       "9. 'nfigs'\n",
       "10. 'ns'\n",
       "11. 'phase'\n",
       "12. 'priorRBA'\n",
       "13. 'SCALE'\n",
       "14. 'stan_code'\n",
       "\n",
       "\n"
      ],
      "text/plain": [
       " [1] \"chains\"     \"dataTable\"  \"df\"         \"fm\"         \"hem\"       \n",
       " [6] \"iterations\" \"mod\"        \"modelForm\"  \"nfigs\"      \"ns\"        \n",
       "[11] \"phase\"      \"priorRBA\"   \"SCALE\"      \"stan_code\" "
      ]
     },
     "metadata": {},
     "output_type": "display_data"
    }
   ],
   "source": [
    "ls()"
   ]
  },
  {
   "cell_type": "code",
   "execution_count": 7,
   "metadata": {},
   "outputs": [],
   "source": [
    "# Extract posteriors for fixed (aa) and random effects (bb)\n",
    "aa <- fixef(fm, summary = FALSE)/SCALE # Population-Level Estimates\n",
    "bb <- lapply(ranef(fm, summary = FALSE), `/`, SCALE) # Extract Group-Level (or random-effect)"
   ]
  },
  {
   "cell_type": "code",
   "execution_count": 9,
   "metadata": {},
   "outputs": [],
   "source": [
    "respat <- paste0('results_offset/',hem,'_insula_',phase,'_')\n",
    "write.table(as.data.frame(aa),file=paste0(respat,'POP.txt'),sep='\\t',\n",
    "            col.names = TRUE, row.names = FALSE)"
   ]
  },
  {
   "cell_type": "code",
   "execution_count": 10,
   "metadata": {},
   "outputs": [
    {
     "name": "stderr",
     "output_type": "stream",
     "text": [
      "Warning message:\n",
      "“Parts of the model have not converged (some Rhats are > 1.05). Be careful when analysing the results! We recommend running more iterations and/or setting stronger priors.”\n"
     ]
    },
    {
     "name": "stdout",
     "output_type": "stream",
     "text": [
      " Family: student \n",
      "  Links: mu = identity; sigma = identity; nu = identity \n",
      "Formula: beta ~ 1 + cond + (1 + cond | gr(Subj, dist = \"student\")) + (1 + cond | gr(ROI, dist = \"student\")) + (1 + cond | gr(VOX, dist = \"student\")) \n",
      "   Data: dataTable (Number of observations: 205138) \n",
      "Samples: 4 chains, each with iter = 20000; warmup = 10000; thin = 1;\n",
      "         total post-warmup samples = 40000\n",
      "\n",
      "Group-Level Effects: \n",
      "~ROI (Number of levels: 11) \n",
      "                    Estimate Est.Error l-95% CI u-95% CI Rhat Bulk_ESS Tail_ESS\n",
      "df                     34.20     18.20     8.83    78.70 1.00     5173     7358\n",
      "sd(Intercept)           0.21      0.05     0.13     0.32 1.00    12012    19139\n",
      "sd(cond)                0.22      0.05     0.14     0.34 1.00    12112    19043\n",
      "cor(Intercept,cond)     0.89      0.09     0.65     0.98 1.00    13860    21035\n",
      "\n",
      "~Subj (Number of levels: 109) \n",
      "                    Estimate Est.Error l-95% CI u-95% CI Rhat Bulk_ESS Tail_ESS\n",
      "df                     21.96     13.83     6.17    58.15 1.01      505     1344\n",
      "sd(Intercept)           0.59      0.05     0.50     0.68 1.00     2003     4207\n",
      "sd(cond)                0.77      0.07     0.64     0.91 1.00     1477     3389\n",
      "cor(Intercept,cond)     0.15      0.10    -0.05     0.33 1.00     2808     6016\n",
      "\n",
      "~VOX (Number of levels: 941) \n",
      "                    Estimate Est.Error l-95% CI u-95% CI Rhat Bulk_ESS Tail_ESS\n",
      "df                     25.18     14.31     7.37    63.40 1.06       68      188\n",
      "sd(Intercept)           0.12      0.01     0.11     0.13 1.03      133      397\n",
      "sd(cond)                0.11      0.01     0.10     0.12 1.01      331      811\n",
      "cor(Intercept,cond)     0.96      0.02     0.91     0.99 1.00    10594    20455\n",
      "\n",
      "Population-Level Effects: \n",
      "          Estimate Est.Error l-95% CI u-95% CI Rhat Bulk_ESS Tail_ESS\n",
      "Intercept    34.38      0.09    34.20    34.56 1.00     2403     5846\n",
      "cond         -0.05      0.10    -0.25     0.16 1.00     2426     6379\n",
      "\n",
      "Family Specific Parameters: \n",
      "      Estimate Est.Error l-95% CI u-95% CI Rhat Bulk_ESS Tail_ESS\n",
      "sigma     0.96      0.00     0.95     0.96 1.00    49393    32256\n",
      "nu        5.06      0.05     4.96     5.17 1.00    51175    30971\n",
      "\n",
      "Samples were drawn using sample(hmc). For each parameter, Bulk_ESS\n",
      "and Tail_ESS are effective sample size measures, and Rhat is the potential\n",
      "scale reduction factor on split chains (at convergence, Rhat = 1).\n"
     ]
    }
   ],
   "source": [
    "for (col in colnames(aa)){\n",
    "  roi_eff <- data.frame(bb[['ROI']][,,col])\n",
    "  write.table(roi_eff,paste0(respat,'ROI_',col,'.txt'),sep='\\t',\n",
    "              col.names = TRUE, row.names = FALSE)\n",
    "  \n",
    "  vox_eff <- data.frame(bb[['VOX']][,,col])\n",
    "  write.table(vox_eff,paste0(respat,'VOX_',col,'.txt'),sep='\\t',\n",
    "            col.names = TRUE, row.names = FALSE)\n",
    "}\n",
    "\n",
    "# Shows the summary of the model\n",
    "cat(capture.output(summary(fm)),sep = '\\n', append=TRUE)"
   ]
  },
  {
   "cell_type": "code",
   "execution_count": null,
   "metadata": {},
   "outputs": [],
   "source": []
  }
 ],
 "metadata": {
  "kernelspec": {
   "display_name": "R",
   "language": "R",
   "name": "ir"
  },
  "language_info": {
   "codemirror_mode": "r",
   "file_extension": ".r",
   "mimetype": "text/x-r-source",
   "name": "R",
   "pygments_lexer": "r",
   "version": "3.6.0"
  }
 },
 "nbformat": 4,
 "nbformat_minor": 4
}
