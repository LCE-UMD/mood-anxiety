{
 "cells": [
  {
   "cell_type": "markdown",
   "id": "46b78e83-370c-46f7-bf7f-16ef095c490e",
   "metadata": {},
   "source": [
    "### Posterior distributions"
   ]
  },
  {
   "cell_type": "code",
   "execution_count": 19,
   "id": "525292d6-96cd-46a7-975b-02dbe07db68c",
   "metadata": {},
   "outputs": [],
   "source": [
    "# add packages and load data\n",
    "\n",
    "library(data.table)\n",
    "library(tidyverse)\n",
    "library(ggridges)\n",
    "library(here)\n",
    "options(warn = -1)\n",
    "\n",
    "\n",
    "cond <- \"late\"\n",
    "\n",
    "\n",
    "df <- read.table(paste0('intercept',cond,'_post.txt'))\n",
    "conditions <- c(\"early\")"
   ]
  },
  {
   "cell_type": "code",
   "execution_count": 44,
   "id": "af204bbe-8417-4a7d-a061-4804d459faf4",
   "metadata": {},
   "outputs": [
    {
     "ename": "ERROR",
     "evalue": "Error: Column `index` must be length 3400000 (the number of rows) or one, not 3400085\n",
     "output_type": "error",
     "traceback": [
      "Error: Column `index` must be length 3400000 (the number of rows) or one, not 3400085\nTraceback:\n",
      "1. posteriors %>% gather(\"ROI\") %>% group_by(ROI) %>% mutate(p.plus = sum(value > \n .     0)/length(value), mean = mean(value), median = median(value)) %>% \n .     arrange(p.plus, median) %>% ungroup() %>% mutate(index = rep(1:length(unique(ROI)), \n .     each = nobj), p.plus = format(round(p.plus, 3), nsmall = 2), \n .     p.plus.gray = p.plus, p.plus.gray = replace(p.plus.gray, \n .         p.plus.gray > 0.15 & p.plus.gray < 0.85, NA), p.plus.gray = as.numeric(p.plus.gray))",
      "2. withVisible(eval(quote(`_fseq`(`_lhs`)), env, env))",
      "3. eval(quote(`_fseq`(`_lhs`)), env, env)",
      "4. eval(quote(`_fseq`(`_lhs`)), env, env)",
      "5. `_fseq`(`_lhs`)",
      "6. freduce(value, `_function_list`)",
      "7. withVisible(function_list[[k]](value))",
      "8. function_list[[k]](value)",
      "9. mutate(., index = rep(1:length(unique(ROI)), each = nobj), p.plus = format(round(p.plus, \n .     3), nsmall = 2), p.plus.gray = p.plus, p.plus.gray = replace(p.plus.gray, \n .     p.plus.gray > 0.15 & p.plus.gray < 0.85, NA), p.plus.gray = as.numeric(p.plus.gray))",
      "10. mutate.tbl_df(., index = rep(1:length(unique(ROI)), each = nobj), \n  .     p.plus = format(round(p.plus, 3), nsmall = 2), p.plus.gray = p.plus, \n  .     p.plus.gray = replace(p.plus.gray, p.plus.gray > 0.15 & p.plus.gray < \n  .         0.85, NA), p.plus.gray = as.numeric(p.plus.gray))",
      "11. mutate_impl(.data, dots, caller_env())"
     ]
    }
   ],
   "source": [
    "for (cond in conditions) {\n",
    "    posteriors <- read.table(paste0('intercept',cond,'_post.txt'), header = TRUE)\n",
    "    n.obj <- dim(posteriors)[1]\n",
    "    df.long <- posteriors %>%\n",
    "        gather(\"ROI\") %>%\n",
    "        group_by(ROI) %>%\n",
    "        mutate(p.plus = sum(value > 0)/length(value),\n",
    "               mean = mean(value),\n",
    "               median = median(value)) %>%\n",
    "       arrange(p.plus, median) %>%\n",
    "       ungroup() %>%\n",
    "       mutate(index = rep(1:length(unique(ROI)), each = nobj),\n",
    "         p.plus = format(round(p.plus, 3), nsmall = 2),\n",
    "         p.plus.gray = p.plus,\n",
    "         p.plus.gray = replace(p.plus.gray, p.plus.gray > 0.15 & p.plus.gray < 0.85, NA),\n",
    "         p.plus.gray = as.numeric(p.plus.gray)) \n",
    "}\n",
    "head(df.long)"
   ]
  },
  {
   "cell_type": "code",
   "execution_count": 46,
   "id": "ec19462c-bc5d-4b75-b7cd-c65ec1206c82",
   "metadata": {},
   "outputs": [
    {
     "data": {
      "text/html": [
       "85"
      ],
      "text/latex": [
       "85"
      ],
      "text/markdown": [
       "85"
      ],
      "text/plain": [
       "[1] 85"
      ]
     },
     "metadata": {},
     "output_type": "display_data"
    }
   ],
   "source": [
    "length(unique(df.long$ROI))"
   ]
  },
  {
   "cell_type": "code",
   "execution_count": 35,
   "id": "7ba293b3-14f9-485c-b939-362d6210e6ae",
   "metadata": {},
   "outputs": [
    {
     "ename": "ERROR",
     "evalue": "Error: Column `index` must be length 3400000 (the number of rows) or one, not 3400085\n",
     "output_type": "error",
     "traceback": [
      "Error: Column `index` must be length 3400000 (the number of rows) or one, not 3400085\nTraceback:\n",
      "1. posteriors %>% gather(\"ROI\") %>% group_by(ROI) %>% mutate(p.plus = sum(value > \n .     0)/length(value), mean = mean(value), median = median(value)) %>% \n .     arrange(p.plus, median) %>% ungroup() %>% mutate(index = rep(1:length(unique(ROI)), \n .     each = nobj), p.plus = format(round(p.plus, 3), nsmall = 2), \n .     p.plus.gray = p.plus, p.plus.gray = replace(p.plus.gray, \n .         p.plus.gray > 0.15 & p.plus.gray < 0.85, NA), p.plus.gray = as.numeric(p.plus.gray))",
      "2. withVisible(eval(quote(`_fseq`(`_lhs`)), env, env))",
      "3. eval(quote(`_fseq`(`_lhs`)), env, env)",
      "4. eval(quote(`_fseq`(`_lhs`)), env, env)",
      "5. `_fseq`(`_lhs`)",
      "6. freduce(value, `_function_list`)",
      "7. withVisible(function_list[[k]](value))",
      "8. function_list[[k]](value)",
      "9. mutate(., index = rep(1:length(unique(ROI)), each = nobj), p.plus = format(round(p.plus, \n .     3), nsmall = 2), p.plus.gray = p.plus, p.plus.gray = replace(p.plus.gray, \n .     p.plus.gray > 0.15 & p.plus.gray < 0.85, NA), p.plus.gray = as.numeric(p.plus.gray))",
      "10. mutate.tbl_df(., index = rep(1:length(unique(ROI)), each = nobj), \n  .     p.plus = format(round(p.plus, 3), nsmall = 2), p.plus.gray = p.plus, \n  .     p.plus.gray = replace(p.plus.gray, p.plus.gray > 0.15 & p.plus.gray < \n  .         0.85, NA), p.plus.gray = as.numeric(p.plus.gray))",
      "11. mutate_impl(.data, dots, caller_env())"
     ]
    }
   ],
   "source": [
    "for (cond in conditions) {\n",
    "    posteriors <- read.table(paste0('intercept',cond,'_post.txt'), header = TRUE)\n",
    "    n.obj <- dim(posteriors)[1]\n",
    "    df.long <- posteriors %>%\n",
    "          gather(\"ROI\") %>%                                                 \n",
    "          group_by(ROI) %>%\n",
    "          mutate(p.plus = sum(value > 0)/length(value),\n",
    "                 mean = mean(value),\n",
    "                 median = median(value)) %>%                 \n",
    "  arrange(p.plus, median) %>%\n",
    "  ungroup() %>%\n",
    "  mutate(index = rep(1:length(unique(ROI)), each = nobj),\n",
    "         p.plus = format(round(p.plus, 3), nsmall = 2),\n",
    "         p.plus.gray = p.plus,\n",
    "         p.plus.gray = replace(p.plus.gray, p.plus.gray > 0.15 & p.plus.gray < 0.85, NA),\n",
    "         p.plus.gray = as.numeric(p.plus.gray)) \n",
    "         \n",
    "         \n",
    "# create p+ dataframe that will mark all p+ values between 0.15 and 0.85 as NA, thus plotting gray distributions. This is done because ggplot does not allow for a range of values to be considered NA. Thus, a bit of a \"cheat\".\n",
    "\n",
    "# Also formats P+ values so that all values are 3 decimals, even 0.\n",
    "\n",
    "p.plus <- df.long %>%                                                         \n",
    "  select(ROI, index, p.plus, p.plus.gray) %>%\n",
    "  distinct()\n",
    "\n",
    "# scaling for 2.3mm x 2.3mm per distribution\n",
    "h <- length(unique(p.plus$ROI))*2.3\n",
    "w <- length(unique(p.plus$ROI))*2.3 \n",
    "\n",
    "ggplot(df.long, aes(x = value, \n",
    "           # y = as.numeric(index),\n",
    "            group = ROI, \n",
    "            fill = p.plus.gray)) +\n",
    "  geom_vline(xintercept = 0, \n",
    "             linetype=\"solid\",\n",
    "             color = \"black\",\n",
    "             alpha = .95, \n",
    "             size = .30) +\n",
    "  stat_density_ridges(quantile_lines = TRUE,\n",
    "                      quantiles = 2,\n",
    "                      alpha = .95,\n",
    "                      scale = 2.5,\n",
    "                      color = \"gray\",\n",
    "                      size = .35,\n",
    "                      rel_min_height = 0.01)\n",
    "ggsave(\"test.pdf\")\n",
    "\n",
    "}\n"
   ]
  },
  {
   "cell_type": "code",
   "execution_count": 33,
   "id": "d604d2d6-fc0c-4739-bdba-bd6fa8321ce4",
   "metadata": {},
   "outputs": [
    {
     "data": {
      "text/html": [
       "<table>\n",
       "<thead><tr><th scope=col>ROI</th><th scope=col>value</th><th scope=col>p.plus</th><th scope=col>mean</th><th scope=col>median</th><th scope=col>index</th><th scope=col>p.plus.gray</th></tr></thead>\n",
       "<tbody>\n",
       "\t<tr><td>V65       </td><td>R_IFG-2   </td><td>0.000     </td><td>NA        </td><td>-0.463566 </td><td>1         </td><td>0         </td></tr>\n",
       "\t<tr><td>V65       </td><td>-0.331454 </td><td>0.000     </td><td>NA        </td><td>-0.463566 </td><td>1         </td><td>0         </td></tr>\n",
       "\t<tr><td>V65       </td><td>-0.4567601</td><td>0.000     </td><td>NA        </td><td>-0.463566 </td><td>1         </td><td>0         </td></tr>\n",
       "\t<tr><td>V65       </td><td>-0.3105275</td><td>0.000     </td><td>NA        </td><td>-0.463566 </td><td>1         </td><td>0         </td></tr>\n",
       "\t<tr><td>V65       </td><td>-0.570497 </td><td>0.000     </td><td>NA        </td><td>-0.463566 </td><td>1         </td><td>0         </td></tr>\n",
       "\t<tr><td>V65       </td><td>-0.433908 </td><td>0.000     </td><td>NA        </td><td>-0.463566 </td><td>1         </td><td>0         </td></tr>\n",
       "</tbody>\n",
       "</table>\n"
      ],
      "text/latex": [
       "\\begin{tabular}{r|lllllll}\n",
       " ROI & value & p.plus & mean & median & index & p.plus.gray\\\\\n",
       "\\hline\n",
       "\t V65          & R\\_IFG-2    & 0.000        & NA           & -0.463566    & 1            & 0           \\\\\n",
       "\t V65        & -0.331454  & 0.000      & NA         & -0.463566  & 1          & 0         \\\\\n",
       "\t V65        & -0.4567601 & 0.000      & NA         & -0.463566  & 1          & 0         \\\\\n",
       "\t V65        & -0.3105275 & 0.000      & NA         & -0.463566  & 1          & 0         \\\\\n",
       "\t V65        & -0.570497  & 0.000      & NA         & -0.463566  & 1          & 0         \\\\\n",
       "\t V65        & -0.433908  & 0.000      & NA         & -0.463566  & 1          & 0         \\\\\n",
       "\\end{tabular}\n"
      ],
      "text/markdown": [
       "\n",
       "| ROI | value | p.plus | mean | median | index | p.plus.gray |\n",
       "|---|---|---|---|---|---|---|\n",
       "| V65        | R_IFG-2    | 0.000      | NA         | -0.463566  | 1          | 0          |\n",
       "| V65        | -0.331454  | 0.000      | NA         | -0.463566  | 1          | 0          |\n",
       "| V65        | -0.4567601 | 0.000      | NA         | -0.463566  | 1          | 0          |\n",
       "| V65        | -0.3105275 | 0.000      | NA         | -0.463566  | 1          | 0          |\n",
       "| V65        | -0.570497  | 0.000      | NA         | -0.463566  | 1          | 0          |\n",
       "| V65        | -0.433908  | 0.000      | NA         | -0.463566  | 1          | 0          |\n",
       "\n"
      ],
      "text/plain": [
       "  ROI value      p.plus mean median    index p.plus.gray\n",
       "1 V65 R_IFG-2    0.000  NA   -0.463566 1     0          \n",
       "2 V65 -0.331454  0.000  NA   -0.463566 1     0          \n",
       "3 V65 -0.4567601 0.000  NA   -0.463566 1     0          \n",
       "4 V65 -0.3105275 0.000  NA   -0.463566 1     0          \n",
       "5 V65 -0.570497  0.000  NA   -0.463566 1     0          \n",
       "6 V65 -0.433908  0.000  NA   -0.463566 1     0          "
      ]
     },
     "metadata": {},
     "output_type": "display_data"
    }
   ],
   "source": [
    "head(df.long)"
   ]
  },
  {
   "cell_type": "code",
   "execution_count": 34,
   "id": "88e62410-044e-469e-a0c5-2a7f5fe90642",
   "metadata": {},
   "outputs": [
    {
     "data": {
      "text/html": [
       "<table>\n",
       "<thead><tr><th scope=col>V1</th><th scope=col>V2</th><th scope=col>V3</th><th scope=col>V4</th><th scope=col>V5</th><th scope=col>V6</th><th scope=col>V7</th><th scope=col>V8</th><th scope=col>V9</th><th scope=col>V10</th><th scope=col>...</th><th scope=col>V76</th><th scope=col>V77</th><th scope=col>V78</th><th scope=col>V79</th><th scope=col>V80</th><th scope=col>V81</th><th scope=col>V82</th><th scope=col>V83</th><th scope=col>V84</th><th scope=col>V85</th></tr></thead>\n",
       "<tbody>\n",
       "\t<tr><td>L__d_ant/lat_Thalamus </td><td>L__d_ant/med_Thalamus </td><td>L__v_med/post_Thalamus</td><td>L_ACC                 </td><td>L_ant._Caudate        </td><td>L_ant._dorsal_Insula  </td><td>L_ant._Hippocampus    </td><td>L_ant._MCC            </td><td>L_ant._Putamen        </td><td>L_ant._ventral_Insula </td><td>...                   </td><td>R_post._Caudate       </td><td>R_post._MCC           </td><td>R_post._Putamen       </td><td>R_pre-SMA             </td><td>R_pregenual_ACC       </td><td>R_v_ant/inf_Thalamus  </td><td>R_v_ant/sup_Thalamus  </td><td>R_v_lat/post_Thalamus </td><td>R_v_med/post_Thalamus </td><td>R_Ventral_striatum    </td></tr>\n",
       "\t<tr><td>0.126809              </td><td>0.018024              </td><td>-0.2297062            </td><td>0.21407               </td><td>0.116623              </td><td>0.09877               </td><td>-0.750846             </td><td>0.638087              </td><td>-0.0993838            </td><td>-0.000923000000000007 </td><td>...                   </td><td>-0.083759             </td><td>0.244879              </td><td>-0.18779176           </td><td>0.300082              </td><td>-0.055323             </td><td>0.386591              </td><td>0.294113              </td><td>-0.460228             </td><td>0.047161              </td><td>0.157535              </td></tr>\n",
       "\t<tr><td>0.3166149             </td><td>-0.0263387            </td><td>0.0847579             </td><td>0.1564639             </td><td>0.2542919             </td><td>0.2090779             </td><td>-0.5812981            </td><td>0.6115449             </td><td>0.0583819             </td><td>-0.0173072            </td><td>...                   </td><td>-0.1302269            </td><td>0.2907979             </td><td>-0.0027567            </td><td>0.4962209             </td><td>0.0996609             </td><td>0.3570129             </td><td>0.4518889             </td><td>-0.2617691            </td><td>0.1736129             </td><td>0.0982649             </td></tr>\n",
       "\t<tr><td>0.0840085             </td><td>0.0799625             </td><td>0.019606              </td><td>0.3135075             </td><td>0.2134055             </td><td>0.2477015             </td><td>-0.5316305            </td><td>0.6332375             </td><td>0.0725335             </td><td>0.0462924             </td><td>...                   </td><td>0.0125434             </td><td>0.2226835             </td><td>-0.3307495            </td><td>0.3324235             </td><td>0.0729875             </td><td>0.3768105             </td><td>0.4705265             </td><td>-0.3105705            </td><td>0.0715005             </td><td>0.3023435             </td></tr>\n",
       "\t<tr><td>0.298364              </td><td>-0.0763714            </td><td>-0.1024872            </td><td>0.068558              </td><td>0.201587              </td><td>0.096334              </td><td>-0.698167             </td><td>0.61485               </td><td>-0.0216507            </td><td>-0.094384             </td><td>...                   </td><td>-0.214193             </td><td>0.121724              </td><td>-0.003224             </td><td>0.347483              </td><td>-0.0279467            </td><td>0.246408              </td><td>0.334625              </td><td>-0.32156              </td><td>0.139168              </td><td>-0.0154743            </td></tr>\n",
       "\t<tr><td>0.080176              </td><td>0.067346              </td><td>-0.0623683            </td><td>0.08758               </td><td>0.214605              </td><td>0.243905              </td><td>-0.6712               </td><td>0.599166              </td><td>-0.0322022            </td><td>-0.0084365            </td><td>...                   </td><td>0.010233              </td><td>0.126342              </td><td>-0.356046             </td><td>0.412056              </td><td>0.073042              </td><td>0.393577              </td><td>0.265869              </td><td>-0.268195             </td><td>-0.0295204            </td><td>0.158315              </td></tr>\n",
       "</tbody>\n",
       "</table>\n"
      ],
      "text/latex": [
       "\\begin{tabular}{r|lllllllllllllllllllllllllllllllllllllllllllllllllllllllllllllllllllllllllllllllllllll}\n",
       " V1 & V2 & V3 & V4 & V5 & V6 & V7 & V8 & V9 & V10 & ... & V76 & V77 & V78 & V79 & V80 & V81 & V82 & V83 & V84 & V85\\\\\n",
       "\\hline\n",
       "\t L\\_\\_d\\_ant/lat\\_Thalamus  & L\\_\\_d\\_ant/med\\_Thalamus  & L\\_\\_v\\_med/post\\_Thalamus & L\\_ACC                        & L\\_ant.\\_Caudate             & L\\_ant.\\_dorsal\\_Insula     & L\\_ant.\\_Hippocampus         & L\\_ant.\\_MCC                 & L\\_ant.\\_Putamen             & L\\_ant.\\_ventral\\_Insula    & ...                            & R\\_post.\\_Caudate            & R\\_post.\\_MCC                & R\\_post.\\_Putamen            & R\\_pre-SMA                    & R\\_pregenual\\_ACC            & R\\_v\\_ant/inf\\_Thalamus     & R\\_v\\_ant/sup\\_Thalamus     & R\\_v\\_lat/post\\_Thalamus    & R\\_v\\_med/post\\_Thalamus    & R\\_Ventral\\_striatum        \\\\\n",
       "\t 0.126809               & 0.018024               & -0.2297062             & 0.21407                & 0.116623               & 0.09877                & -0.750846              & 0.638087               & -0.0993838             & -0.000923000000000007  & ...                    & -0.083759              & 0.244879               & -0.18779176            & 0.300082               & -0.055323              & 0.386591               & 0.294113               & -0.460228              & 0.047161               & 0.157535              \\\\\n",
       "\t 0.3166149              & -0.0263387             & 0.0847579              & 0.1564639              & 0.2542919              & 0.2090779              & -0.5812981             & 0.6115449              & 0.0583819              & -0.0173072             & ...                    & -0.1302269             & 0.2907979              & -0.0027567             & 0.4962209              & 0.0996609              & 0.3570129              & 0.4518889              & -0.2617691             & 0.1736129              & 0.0982649             \\\\\n",
       "\t 0.0840085              & 0.0799625              & 0.019606               & 0.3135075              & 0.2134055              & 0.2477015              & -0.5316305             & 0.6332375              & 0.0725335              & 0.0462924              & ...                    & 0.0125434              & 0.2226835              & -0.3307495             & 0.3324235              & 0.0729875              & 0.3768105              & 0.4705265              & -0.3105705             & 0.0715005              & 0.3023435             \\\\\n",
       "\t 0.298364               & -0.0763714             & -0.1024872             & 0.068558               & 0.201587               & 0.096334               & -0.698167              & 0.61485                & -0.0216507             & -0.094384              & ...                    & -0.214193              & 0.121724               & -0.003224              & 0.347483               & -0.0279467             & 0.246408               & 0.334625               & -0.32156               & 0.139168               & -0.0154743            \\\\\n",
       "\t 0.080176               & 0.067346               & -0.0623683             & 0.08758                & 0.214605               & 0.243905               & -0.6712                & 0.599166               & -0.0322022             & -0.0084365             & ...                    & 0.010233               & 0.126342               & -0.356046              & 0.412056               & 0.073042               & 0.393577               & 0.265869               & -0.268195              & -0.0295204             & 0.158315              \\\\\n",
       "\\end{tabular}\n"
      ],
      "text/markdown": [
       "\n",
       "| V1 | V2 | V3 | V4 | V5 | V6 | V7 | V8 | V9 | V10 | ... | V76 | V77 | V78 | V79 | V80 | V81 | V82 | V83 | V84 | V85 |\n",
       "|---|---|---|---|---|---|---|---|---|---|---|---|---|---|---|---|---|---|---|---|---|\n",
       "| L__d_ant/lat_Thalamus  | L__d_ant/med_Thalamus  | L__v_med/post_Thalamus | L_ACC                  | L_ant._Caudate         | L_ant._dorsal_Insula   | L_ant._Hippocampus     | L_ant._MCC             | L_ant._Putamen         | L_ant._ventral_Insula  | ...                    | R_post._Caudate        | R_post._MCC            | R_post._Putamen        | R_pre-SMA              | R_pregenual_ACC        | R_v_ant/inf_Thalamus   | R_v_ant/sup_Thalamus   | R_v_lat/post_Thalamus  | R_v_med/post_Thalamus  | R_Ventral_striatum     |\n",
       "| 0.126809               | 0.018024               | -0.2297062             | 0.21407                | 0.116623               | 0.09877                | -0.750846              | 0.638087               | -0.0993838             | -0.000923000000000007  | ...                    | -0.083759              | 0.244879               | -0.18779176            | 0.300082               | -0.055323              | 0.386591               | 0.294113               | -0.460228              | 0.047161               | 0.157535               |\n",
       "| 0.3166149              | -0.0263387             | 0.0847579              | 0.1564639              | 0.2542919              | 0.2090779              | -0.5812981             | 0.6115449              | 0.0583819              | -0.0173072             | ...                    | -0.1302269             | 0.2907979              | -0.0027567             | 0.4962209              | 0.0996609              | 0.3570129              | 0.4518889              | -0.2617691             | 0.1736129              | 0.0982649              |\n",
       "| 0.0840085              | 0.0799625              | 0.019606               | 0.3135075              | 0.2134055              | 0.2477015              | -0.5316305             | 0.6332375              | 0.0725335              | 0.0462924              | ...                    | 0.0125434              | 0.2226835              | -0.3307495             | 0.3324235              | 0.0729875              | 0.3768105              | 0.4705265              | -0.3105705             | 0.0715005              | 0.3023435              |\n",
       "| 0.298364               | -0.0763714             | -0.1024872             | 0.068558               | 0.201587               | 0.096334               | -0.698167              | 0.61485                | -0.0216507             | -0.094384              | ...                    | -0.214193              | 0.121724               | -0.003224              | 0.347483               | -0.0279467             | 0.246408               | 0.334625               | -0.32156               | 0.139168               | -0.0154743             |\n",
       "| 0.080176               | 0.067346               | -0.0623683             | 0.08758                | 0.214605               | 0.243905               | -0.6712                | 0.599166               | -0.0322022             | -0.0084365             | ...                    | 0.010233               | 0.126342               | -0.356046              | 0.412056               | 0.073042               | 0.393577               | 0.265869               | -0.268195              | -0.0295204             | 0.158315               |\n",
       "\n"
      ],
      "text/plain": [
       "  V1                    V2                    V3                     V4       \n",
       "1 L__d_ant/lat_Thalamus L__d_ant/med_Thalamus L__v_med/post_Thalamus L_ACC    \n",
       "2 0.126809              0.018024              -0.2297062             0.21407  \n",
       "3 0.3166149             -0.0263387            0.0847579              0.1564639\n",
       "4 0.0840085             0.0799625             0.019606               0.3135075\n",
       "5 0.298364              -0.0763714            -0.1024872             0.068558 \n",
       "6 0.080176              0.067346              -0.0623683             0.08758  \n",
       "  V5             V6                   V7                 V8        \n",
       "1 L_ant._Caudate L_ant._dorsal_Insula L_ant._Hippocampus L_ant._MCC\n",
       "2 0.116623       0.09877              -0.750846          0.638087  \n",
       "3 0.2542919      0.2090779            -0.5812981         0.6115449 \n",
       "4 0.2134055      0.2477015            -0.5316305         0.6332375 \n",
       "5 0.201587       0.096334             -0.698167          0.61485   \n",
       "6 0.214605       0.243905             -0.6712            0.599166  \n",
       "  V9             V10                   ... V76             V77        \n",
       "1 L_ant._Putamen L_ant._ventral_Insula ... R_post._Caudate R_post._MCC\n",
       "2 -0.0993838     -0.000923000000000007 ... -0.083759       0.244879   \n",
       "3 0.0583819      -0.0173072            ... -0.1302269      0.2907979  \n",
       "4 0.0725335      0.0462924             ... 0.0125434       0.2226835  \n",
       "5 -0.0216507     -0.094384             ... -0.214193       0.121724   \n",
       "6 -0.0322022     -0.0084365            ... 0.010233        0.126342   \n",
       "  V78             V79       V80             V81                 \n",
       "1 R_post._Putamen R_pre-SMA R_pregenual_ACC R_v_ant/inf_Thalamus\n",
       "2 -0.18779176     0.300082  -0.055323       0.386591            \n",
       "3 -0.0027567      0.4962209 0.0996609       0.3570129           \n",
       "4 -0.3307495      0.3324235 0.0729875       0.3768105           \n",
       "5 -0.003224       0.347483  -0.0279467      0.246408            \n",
       "6 -0.356046       0.412056  0.073042        0.393577            \n",
       "  V82                  V83                   V84                  \n",
       "1 R_v_ant/sup_Thalamus R_v_lat/post_Thalamus R_v_med/post_Thalamus\n",
       "2 0.294113             -0.460228             0.047161             \n",
       "3 0.4518889            -0.2617691            0.1736129            \n",
       "4 0.4705265            -0.3105705            0.0715005            \n",
       "5 0.334625             -0.32156              0.139168             \n",
       "6 0.265869             -0.268195             -0.0295204           \n",
       "  V85               \n",
       "1 R_Ventral_striatum\n",
       "2 0.157535          \n",
       "3 0.0982649         \n",
       "4 0.3023435         \n",
       "5 -0.0154743        \n",
       "6 0.158315          "
      ]
     },
     "metadata": {},
     "output_type": "display_data"
    }
   ],
   "source": [
    "head(posteriors)"
   ]
  },
  {
   "cell_type": "code",
   "execution_count": null,
   "id": "f40b2ff7-bfdf-4229-93ef-172cea0aeb3f",
   "metadata": {},
   "outputs": [],
   "source": []
  }
 ],
 "metadata": {
  "kernelspec": {
   "display_name": "R",
   "language": "R",
   "name": "ir"
  },
  "language_info": {
   "codemirror_mode": "r",
   "file_extension": ".r",
   "mimetype": "text/x-r-source",
   "name": "R",
   "pygments_lexer": "r",
   "version": "3.6.1"
  }
 },
 "nbformat": 4,
 "nbformat_minor": 5
}
