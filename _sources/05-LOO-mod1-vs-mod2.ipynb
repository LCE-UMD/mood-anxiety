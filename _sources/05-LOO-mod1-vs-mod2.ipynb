{
 "cells": [
  {
   "cell_type": "code",
   "execution_count": 1,
   "metadata": {},
   "outputs": [
    {
     "data": {
      "text/html": [
       "<script>  \n",
       "code_show=true; \n",
       "function code_toggle() {\n",
       "  if (code_show){\n",
       "    $('div.input').hide();\n",
       "  } else {\n",
       "    $('div.input').show();\n",
       "  }\n",
       "  code_show = !code_show\n",
       "}  \n",
       "$( document ).ready(code_toggle);\n",
       "</script>\n",
       "  <form action=\"javascript:code_toggle()\">\n",
       "    <input type=\"submit\" value=\"Click here to toggle on/off the raw code.\">\n",
       " </form>"
      ]
     },
     "metadata": {},
     "output_type": "display_data"
    }
   ],
   "source": [
    "library(IRdisplay)\n",
    "\n",
    "display_html(\n",
    "'<script>  \n",
    "code_show=true; \n",
    "function code_toggle() {\n",
    "  if (code_show){\n",
    "    $(\\'div.input\\').hide();\n",
    "  } else {\n",
    "    $(\\'div.input\\').show();\n",
    "  }\n",
    "  code_show = !code_show\n",
    "}  \n",
    "$( document ).ready(code_toggle);\n",
    "</script>\n",
    "  <form action=\"javascript:code_toggle()\">\n",
    "    <input type=\"submit\" value=\"Click here to toggle on/off the raw code.\">\n",
    " </form>'\n",
    ")"
   ]
  },
  {
   "cell_type": "code",
   "execution_count": 3,
   "metadata": {},
   "outputs": [],
   "source": [
    "library(brms)\n",
    "library(tidyverse)\n",
    "library(parallel)"
   ]
  },
  {
   "cell_type": "code",
   "execution_count": 4,
   "metadata": {},
   "outputs": [],
   "source": [
    "df <- read.table('MAX_neutral_early_late.txt',header = TRUE,sep = \",\")\n",
    "df <-filter(df,Phase=='early')\n",
    "df$se = sqrt(df$var)"
   ]
  },
  {
   "cell_type": "code",
   "execution_count": 5,
   "metadata": {},
   "outputs": [
    {
     "name": "stdout",
     "output_type": "stream",
     "text": [
      "[1] \"Effect of interest: Intercept\" \"Effect of interest: cond\"     \n",
      "[1] \"Number of subjects: 109\"\n",
      "[1] \"Number of ROIs: 36\"\n",
      "[1] \"Number of cores available: 16\"\n"
     ]
    },
    {
     "data": {
      "text/html": [
       "<table>\n",
       "<caption>A data.frame: 6 × 7</caption>\n",
       "<thead>\n",
       "\t<tr><th></th><th scope=col>Subj</th><th scope=col>ROI</th><th scope=col>beta</th><th scope=col>se</th><th scope=col>cond</th><th scope=col>TRAIT</th><th scope=col>STATE</th></tr>\n",
       "\t<tr><th></th><th scope=col>&lt;fct&gt;</th><th scope=col>&lt;fct&gt;</th><th scope=col>&lt;dbl&gt;</th><th scope=col>&lt;dbl&gt;</th><th scope=col>&lt;dbl&gt;</th><th scope=col>&lt;dbl&gt;</th><th scope=col>&lt;dbl&gt;</th></tr>\n",
       "</thead>\n",
       "<tbody>\n",
       "\t<tr><th scope=row>1</th><td>MAX101</td><td>ACC                   </td><td>-0.008450</td><td>0.03363034</td><td>-0.5</td><td>-1.164152</td><td>-1.011495</td></tr>\n",
       "\t<tr><th scope=row>2</th><td>MAX101</td><td>Left AntDorsal Insula </td><td>-0.048800</td><td>0.02981610</td><td>-0.5</td><td>-1.164152</td><td>-1.011495</td></tr>\n",
       "\t<tr><th scope=row>3</th><td>MAX101</td><td>Left AntVentral Insula</td><td>-0.129348</td><td>0.04368066</td><td>-0.5</td><td>-1.164152</td><td>-1.011495</td></tr>\n",
       "\t<tr><th scope=row>4</th><td>MAX101</td><td>Left Anterior  Putamen</td><td>-0.014730</td><td>0.04275512</td><td>-0.5</td><td>-1.164152</td><td>-1.011495</td></tr>\n",
       "\t<tr><th scope=row>5</th><td>MAX101</td><td>Left Anterior Caudate </td><td>-0.072463</td><td>0.03974921</td><td>-0.5</td><td>-1.164152</td><td>-1.011495</td></tr>\n",
       "\t<tr><th scope=row>6</th><td>MAX101</td><td>Left Anterior MCC     </td><td> 0.049450</td><td>0.04815600</td><td>-0.5</td><td>-1.164152</td><td>-1.011495</td></tr>\n",
       "</tbody>\n",
       "</table>\n"
      ],
      "text/latex": [
       "A data.frame: 6 × 7\n",
       "\\begin{tabular}{r|lllllll}\n",
       "  & Subj & ROI & beta & se & cond & TRAIT & STATE\\\\\n",
       "  & <fct> & <fct> & <dbl> & <dbl> & <dbl> & <dbl> & <dbl>\\\\\n",
       "\\hline\n",
       "\t1 & MAX101 & ACC                    & -0.008450 & 0.03363034 & -0.5 & -1.164152 & -1.011495\\\\\n",
       "\t2 & MAX101 & Left AntDorsal Insula  & -0.048800 & 0.02981610 & -0.5 & -1.164152 & -1.011495\\\\\n",
       "\t3 & MAX101 & Left AntVentral Insula & -0.129348 & 0.04368066 & -0.5 & -1.164152 & -1.011495\\\\\n",
       "\t4 & MAX101 & Left Anterior  Putamen & -0.014730 & 0.04275512 & -0.5 & -1.164152 & -1.011495\\\\\n",
       "\t5 & MAX101 & Left Anterior Caudate  & -0.072463 & 0.03974921 & -0.5 & -1.164152 & -1.011495\\\\\n",
       "\t6 & MAX101 & Left Anterior MCC      &  0.049450 & 0.04815600 & -0.5 & -1.164152 & -1.011495\\\\\n",
       "\\end{tabular}\n"
      ],
      "text/markdown": [
       "\n",
       "A data.frame: 6 × 7\n",
       "\n",
       "| <!--/--> | Subj &lt;fct&gt; | ROI &lt;fct&gt; | beta &lt;dbl&gt; | se &lt;dbl&gt; | cond &lt;dbl&gt; | TRAIT &lt;dbl&gt; | STATE &lt;dbl&gt; |\n",
       "|---|---|---|---|---|---|---|---|\n",
       "| 1 | MAX101 | ACC                    | -0.008450 | 0.03363034 | -0.5 | -1.164152 | -1.011495 |\n",
       "| 2 | MAX101 | Left AntDorsal Insula  | -0.048800 | 0.02981610 | -0.5 | -1.164152 | -1.011495 |\n",
       "| 3 | MAX101 | Left AntVentral Insula | -0.129348 | 0.04368066 | -0.5 | -1.164152 | -1.011495 |\n",
       "| 4 | MAX101 | Left Anterior  Putamen | -0.014730 | 0.04275512 | -0.5 | -1.164152 | -1.011495 |\n",
       "| 5 | MAX101 | Left Anterior Caudate  | -0.072463 | 0.03974921 | -0.5 | -1.164152 | -1.011495 |\n",
       "| 6 | MAX101 | Left Anterior MCC      |  0.049450 | 0.04815600 | -0.5 | -1.164152 | -1.011495 |\n",
       "\n"
      ],
      "text/plain": [
       "  Subj   ROI                    beta      se         cond TRAIT     STATE    \n",
       "1 MAX101 ACC                    -0.008450 0.03363034 -0.5 -1.164152 -1.011495\n",
       "2 MAX101 Left AntDorsal Insula  -0.048800 0.02981610 -0.5 -1.164152 -1.011495\n",
       "3 MAX101 Left AntVentral Insula -0.129348 0.04368066 -0.5 -1.164152 -1.011495\n",
       "4 MAX101 Left Anterior  Putamen -0.014730 0.04275512 -0.5 -1.164152 -1.011495\n",
       "5 MAX101 Left Anterior Caudate  -0.072463 0.03974921 -0.5 -1.164152 -1.011495\n",
       "6 MAX101 Left Anterior MCC       0.049450 0.04815600 -0.5 -1.164152 -1.011495"
      ]
     },
     "metadata": {},
     "output_type": "display_data"
    }
   ],
   "source": [
    "iterations <- 20000\n",
    "chains <- 4\n",
    "SCALE <- 1\n",
    "ns <- iterations*chains/2\n",
    "\n",
    "dataTable <- select(df,Subj,ROI,beta,se,TvsS,TRAIT,STATE)\n",
    "colnames(dataTable)[5] <- \"cond\"\n",
    "qVars = 'cond,STATE,TRAIT'\n",
    "EOI = 'Intercept,cond'\n",
    "EOIq <- strsplit(qVars, '\\\\,')[[1]]\n",
    "if(!('Intercept' %in% EOIq)) EOIq <- c('Intercept', EOIq)\n",
    "EOIq <- intersect(strsplit(EOI, '\\\\,')[[1]], EOIq)\n",
    "print(paste0('Effect of interest: ',EOIq))\n",
    "\n",
    "\n",
    "dataTable$Subj <- factor(dataTable$Subj)\n",
    "dataTable$ROI <- factor(dataTable$ROI)\n",
    "\n",
    "# number of ROIs\n",
    "nR <- nlevels(dataTable$ROI)\n",
    "\n",
    "print(paste0('Number of subjects: ',nlevels(dataTable$Subj)))\n",
    "print(paste0('Number of ROIs: ',nlevels(dataTable$ROI)))\n",
    "print(paste0('Number of cores available: ', detectCores(all.tests = FALSE, logical = TRUE)))\n",
    "\n",
    "# number of sigfigs to show on the table\n",
    "nfigs <- 4\n",
    "\n",
    "head(dataTable)"
   ]
  },
  {
   "cell_type": "code",
   "execution_count": 6,
   "metadata": {},
   "outputs": [
    {
     "name": "stdout",
     "output_type": "stream",
     "text": [
      "NULL\n",
      "[1] 16\n"
     ]
    }
   ],
   "source": [
    "# Set nuber of cores to use. \n",
    "# To run each chain on a single core, set number of core to 4\n",
    "print(getOption(\"mc.cores\"))\n",
    "options(mc.cores = parallel::detectCores())\n",
    "print(getOption(\"mc.cores\"))"
   ]
  },
  {
   "cell_type": "markdown",
   "metadata": {},
   "source": [
    "## **1. BML**\n",
    "\n",
    "## 1.1 Model 1\n",
    "\n",
    "<center> Y $\\sim$ 1 + cond + state + trait + (1 + cond | SUB) + (1 + cond + state + trait | ROI) </center>"
   ]
  },
  {
   "cell_type": "markdown",
   "metadata": {},
   "source": [
    "$$Y_{s,r} \\sim Student(\\nu,\\mu_{s,r},\\sigma^{2}_{s,r})$$  \n",
    "$$\\mu_{s,r} = \\alpha + \\alpha_{SUB} + \\alpha_{ROI} + (\\beta_{cond} + \\beta_{SUB_{cond}} + \\beta_{ROI_{cond}})*cond + (\\beta_{state} + \\beta_{ROI_{state}})*state + (\\beta_{trait} + \\beta_{ROI_{trait}})*trait $$\n",
    "\n",
    "\n",
    "Where,  \n",
    "$\\mu_{s,r}$: Mean ROI response in the given subject for a particular phase and block type.     \n",
    "_cond_: Threat (0.5) vs. Safe (-0.5)  \n",
    "_state_: Subject's state score  \n",
    "_trait_: Subject's trait score  "
   ]
  },
  {
   "cell_type": "markdown",
   "metadata": {},
   "source": [
    "## Priors\n",
    "\n",
    "$\\alpha \\sim Student(3,0,10)$ [population effect]  \n",
    "$\\alpha_{SUB} \\sim Student(\\nu_{SUB},0,\\sigma_{SUB})$ [Subject effect]    \n",
    "$\\alpha_{ROI} \\sim Student(\\nu_{ROI},0,\\sigma_{ROI})$ [ROI effect]  \n",
    "\n",
    "$\\beta_{cond} \\sim Student(3,0,10)$ [population effect: cond]  \n",
    "$\\beta_{state} \\sim Student(3,0,10)$ [population effect: state]    \n",
    "$\\beta_{trait} \\sim Student(3,0,10)$ [population effect: trait]  \n",
    "\n",
    "$\\begin{bmatrix}\n",
    "  \\alpha_{ROI} \\\\\n",
    "  \\beta_{ROI_{cond}} \\\\\n",
    "  \\beta_{ROI_{state}} \\\\\n",
    "  \\beta_{ROI_{trait}}\n",
    "\\end{bmatrix} \\sim MVNormal(\\begin{bmatrix} 0 \\\\ 0 \\\\ 0 \\\\ 0 \\end{bmatrix},S)$\n",
    "\n",
    "$ S = \\begin{bmatrix} \\sigma_{\\alpha_{ROI}} & & & \\\\ & \\sigma_{\\beta_{ROI_{cond}}} & & \\\\ & & \\sigma_{\\beta_{ROI_{state}}} & \\\\ & & & \\sigma_{\\beta_{ROI_{trait}}} \\end{bmatrix} R \\begin{bmatrix} \\sigma_{\\alpha_{ROI}} & & & \\\\ & \\sigma_{\\beta_{ROI_{cond}}} & & \\\\ & & \\sigma_{\\beta_{ROI_{state}}} & \\\\ & & & \\sigma_{\\beta_{ROI_{trait}}} \\end{bmatrix}$\n",
    "\n",
    "$\\begin{bmatrix}\n",
    "  \\alpha_{SUB} \\\\\n",
    "  \\beta_{SUB_{cond}}\n",
    "\\end{bmatrix} \\sim MVNormal(\\begin{bmatrix} 0 \\\\ 0 \\end{bmatrix},S)$\n",
    "\n",
    "$ S = \\begin{bmatrix} \\sigma_{\\alpha_{SUB}} & \\\\ & \\sigma_{\\beta_{SUB_{cond}}} \\end{bmatrix} R \\begin{bmatrix} \\sigma_{\\alpha_{SUB}} & \\\\ & \\sigma_{\\beta_{SUB_{cond}}} \\end{bmatrix}$\n",
    "\n",
    "\n",
    "$\\sigma_{SUB} \\sim HalfStudent(3,0,10)$ [prior stddev for Subject effect]    \n",
    "$\\sigma_{ROI} \\sim HalfStudent(3,0,10)$ [prior stddev for ROI effect]    \n",
    "$\\nu_{SUB} \\sim \\Gamma(3.325,0.1)$ [Subject effect hyperprior]    \n",
    "$\\nu_{ROI} \\sim \\Gamma(3.325,0.1)$ [ROI effect hyperprior]  \n",
    "\n",
    "$\\sigma_{\\alpha} \\sim HalfStudent(3,0,10)$ [prior stddev among intercepts]  \n",
    "$\\sigma_{\\beta} \\sim HalfStudent(3,0,10)$ [prior stddev among slopes]\n",
    "\n",
    "$R \\sim LKJcorr(2)$ [prior of correlation matix]\n"
   ]
  },
  {
   "cell_type": "code",
   "execution_count": 10,
   "metadata": {},
   "outputs": [
    {
     "name": "stdout",
     "output_type": "stream",
     "text": [
      "                 prior     class      coef group resp dpar nlpar bound\n",
      "1                              b                                      \n",
      "2                              b      cond                            \n",
      "3                              b     STATE                            \n",
      "4                              b     TRAIT                            \n",
      "5               lkj(2)       cor                                      \n",
      "6                            cor             ROI                      \n",
      "7                            cor            Subj                      \n",
      "8     gamma(3.325,0.1)        df             ROI                      \n",
      "9     gamma(3.325,0.1)        df            Subj                      \n",
      "10 student_t(3, 0, 10) Intercept                                      \n",
      "11    gamma(3.325,0.1)        nu                                      \n",
      "12 student_t(3, 0, 10)        sd                                      \n",
      "13                            sd             ROI                      \n",
      "14                            sd      cond   ROI                      \n",
      "15                            sd Intercept   ROI                      \n",
      "16                            sd     STATE   ROI                      \n",
      "17                            sd     TRAIT   ROI                      \n",
      "18                            sd            Subj                      \n",
      "19                            sd      cond  Subj                      \n",
      "20                            sd Intercept  Subj                      \n"
     ]
    }
   ],
   "source": [
    "mod = '1 + cond + STATE + TRAIT'\n",
    "modelForm = paste('beta | se(se) ~',\n",
    "                  mod,'+ (1 + cond | gr(Subj, dist= \"student\")) +   \n",
    "                         (',mod,'| gr(ROI, dist=\"student\"))')\n",
    "priorRBA <- get_prior(formula = modelForm,data=dataTable,family = 'student')\n",
    "priorRBA$prior[5] <- \"lkj(2)\"\n",
    "priorRBA$prior[8:9] <- \"gamma(3.325,0.1)\"\n",
    "priorRBA$prior[11] <- \"gamma(3.325,0.1)\"\n",
    "print(priorRBA)"
   ]
  },
  {
   "cell_type": "code",
   "execution_count": null,
   "metadata": {},
   "outputs": [
    {
     "name": "stderr",
     "output_type": "stream",
     "text": [
      "Compiling the C++ model\n",
      "\n",
      "Start sampling\n",
      "\n"
     ]
    }
   ],
   "source": [
    "mod1 <- brm(modelForm,\n",
    "          data=dataTable,\n",
    "          chains = chains,\n",
    "          family = 'student',\n",
    "          prior = priorRBA,\n",
    "          inits=0, iter=iterations, \n",
    "          control = list(adapt_delta = 0.99, max_treedepth = 15))"
   ]
  },
  {
   "cell_type": "markdown",
   "metadata": {},
   "source": [
    "## 1.2 Model 2\n",
    "\n",
    "<center> Y $\\sim$ 1 + cond + state + trait + (1 | SUB) + (1 + cond + state + trait | ROI) </center>"
   ]
  },
  {
   "cell_type": "markdown",
   "metadata": {},
   "source": [
    "$$Y_{s,r} \\sim Student(\\nu,\\mu_{s,r},\\sigma^{2}_{s,r})$$  \n",
    "$$\\mu_{s,r} = \\alpha + \\alpha_{SUB} + \\alpha_{ROI} + (\\beta_{cond} + \\beta_{SUB_{cond}} + \\beta_{ROI_{cond}})*cond + (\\beta_{state} + \\beta_{ROI_{state}})*state + (\\beta_{trait} + \\beta_{ROI_{trait}})*trait $$\n",
    "\n",
    "\n",
    "Where,  \n",
    "$\\mu_{s,r}$: Mean ROI response in the given subject for a particular phase and block type.     \n",
    "_cond_: Threat (0.5) vs. Safe (-0.5)  \n",
    "_state_: Subject's state score  \n",
    "_trait_: Subject's trait score  "
   ]
  },
  {
   "cell_type": "markdown",
   "metadata": {},
   "source": [
    "## Priors\n",
    "\n",
    "$\\alpha \\sim Student(3,0,10)$ [population effect]  \n",
    "$\\alpha_{SUB} \\sim Student(\\nu_{SUB},0,\\sigma_{SUB})$ [Subject effect]    \n",
    "$\\alpha_{ROI} \\sim Student(\\nu_{ROI},0,\\sigma_{ROI})$ [ROI effect]  \n",
    "\n",
    "$\\beta_{cond} \\sim Student(3,0,10)$ [population effect: cond]  \n",
    "$\\beta_{state} \\sim Student(3,0,10)$ [population effect: state]    \n",
    "$\\beta_{trait} \\sim Student(3,0,10)$ [population effect: trait]  \n",
    "\n",
    "$\\begin{bmatrix}\n",
    "  \\alpha_{ROI} \\\\\n",
    "  \\beta_{ROI_{cond}} \\\\\n",
    "  \\beta_{ROI_{state}} \\\\\n",
    "  \\beta_{ROI_{trait}}\n",
    "\\end{bmatrix} \\sim MVNormal(\\begin{bmatrix} 0 \\\\ 0 \\\\ 0 \\\\ 0 \\end{bmatrix},S)$\n",
    "\n",
    "$ S = \\begin{bmatrix} \\sigma_{\\alpha_{ROI}} & & & \\\\ & \\sigma_{\\beta_{ROI_{cond}}} & & \\\\ & & \\sigma_{\\beta_{ROI_{state}}} & \\\\ & & & \\sigma_{\\beta_{ROI_{trait}}} \\end{bmatrix} R \\begin{bmatrix} \\sigma_{\\alpha_{ROI}} & & & \\\\ & \\sigma_{\\beta_{ROI_{cond}}} & & \\\\ & & \\sigma_{\\beta_{ROI_{state}}} & \\\\ & & & \\sigma_{\\beta_{ROI_{trait}}} \\end{bmatrix}$\n",
    "\n",
    "\n",
    "$\\sigma_{SUB} \\sim HalfStudent(3,0,10)$ [prior stddev for Subject effect]    \n",
    "$\\sigma_{ROI} \\sim HalfStudent(3,0,10)$ [prior stddev for ROI effect]    \n",
    "$\\nu_{SUB} \\sim \\Gamma(3.325,0.1)$ [Subject effect hyperprior]    \n",
    "$\\nu_{ROI} \\sim \\Gamma(3.325,0.1)$ [ROI effect hyperprior]  \n",
    "\n",
    "$\\sigma_{\\alpha} \\sim HalfStudent(3,0,10)$ [prior stddev among intercepts]  \n",
    "$\\sigma_{\\beta} \\sim HalfStudent(3,0,10)$ [prior stddev among slopes]\n",
    "\n",
    "$R \\sim LKJcorr(2)$ [prior of correlation matix]\n"
   ]
  },
  {
   "cell_type": "code",
   "execution_count": 11,
   "metadata": {},
   "outputs": [
    {
     "data": {
      "text/html": [
       "<table>\n",
       "<caption>A brmsprior: 18 × 8</caption>\n",
       "<thead>\n",
       "\t<tr><th></th><th scope=col>prior</th><th scope=col>class</th><th scope=col>coef</th><th scope=col>group</th><th scope=col>resp</th><th scope=col>dpar</th><th scope=col>nlpar</th><th scope=col>bound</th></tr>\n",
       "\t<tr><th></th><th scope=col>&lt;chr&gt;</th><th scope=col>&lt;chr&gt;</th><th scope=col>&lt;chr&gt;</th><th scope=col>&lt;chr&gt;</th><th scope=col>&lt;chr&gt;</th><th scope=col>&lt;chr&gt;</th><th scope=col>&lt;chr&gt;</th><th scope=col>&lt;chr&gt;</th></tr>\n",
       "</thead>\n",
       "<tbody>\n",
       "\t<tr><th scope=row>1</th><td>                   </td><td>b        </td><td>         </td><td>    </td><td></td><td></td><td></td><td></td></tr>\n",
       "\t<tr><th scope=row>2</th><td>                   </td><td>b        </td><td>cond     </td><td>    </td><td></td><td></td><td></td><td></td></tr>\n",
       "\t<tr><th scope=row>3</th><td>                   </td><td>b        </td><td>STATE    </td><td>    </td><td></td><td></td><td></td><td></td></tr>\n",
       "\t<tr><th scope=row>4</th><td>                   </td><td>b        </td><td>TRAIT    </td><td>    </td><td></td><td></td><td></td><td></td></tr>\n",
       "\t<tr><th scope=row>5</th><td>lkj(2)             </td><td>cor      </td><td>         </td><td>    </td><td></td><td></td><td></td><td></td></tr>\n",
       "\t<tr><th scope=row>6</th><td>                   </td><td>cor      </td><td>         </td><td>ROI </td><td></td><td></td><td></td><td></td></tr>\n",
       "\t<tr><th scope=row>7</th><td>gamma(3.325,0.1)   </td><td>df       </td><td>         </td><td>ROI </td><td></td><td></td><td></td><td></td></tr>\n",
       "\t<tr><th scope=row>8</th><td>gamma(3.325,0.1)   </td><td>df       </td><td>         </td><td>Subj</td><td></td><td></td><td></td><td></td></tr>\n",
       "\t<tr><th scope=row>9</th><td>student_t(3, 0, 10)</td><td>Intercept</td><td>         </td><td>    </td><td></td><td></td><td></td><td></td></tr>\n",
       "\t<tr><th scope=row>10</th><td>gamma(3.325,0.1)   </td><td>nu       </td><td>         </td><td>    </td><td></td><td></td><td></td><td></td></tr>\n",
       "\t<tr><th scope=row>11</th><td>student_t(3, 0, 10)</td><td>sd       </td><td>         </td><td>    </td><td></td><td></td><td></td><td></td></tr>\n",
       "\t<tr><th scope=row>12</th><td>                   </td><td>sd       </td><td>         </td><td>ROI </td><td></td><td></td><td></td><td></td></tr>\n",
       "\t<tr><th scope=row>13</th><td>                   </td><td>sd       </td><td>cond     </td><td>ROI </td><td></td><td></td><td></td><td></td></tr>\n",
       "\t<tr><th scope=row>14</th><td>                   </td><td>sd       </td><td>Intercept</td><td>ROI </td><td></td><td></td><td></td><td></td></tr>\n",
       "\t<tr><th scope=row>15</th><td>                   </td><td>sd       </td><td>STATE    </td><td>ROI </td><td></td><td></td><td></td><td></td></tr>\n",
       "\t<tr><th scope=row>16</th><td>                   </td><td>sd       </td><td>TRAIT    </td><td>ROI </td><td></td><td></td><td></td><td></td></tr>\n",
       "\t<tr><th scope=row>17</th><td>                   </td><td>sd       </td><td>         </td><td>Subj</td><td></td><td></td><td></td><td></td></tr>\n",
       "\t<tr><th scope=row>18</th><td>                   </td><td>sd       </td><td>Intercept</td><td>Subj</td><td></td><td></td><td></td><td></td></tr>\n",
       "</tbody>\n",
       "</table>\n"
      ],
      "text/latex": [
       "A brmsprior: 18 × 8\n",
       "\\begin{tabular}{r|llllllll}\n",
       "  & prior & class & coef & group & resp & dpar & nlpar & bound\\\\\n",
       "  & <chr> & <chr> & <chr> & <chr> & <chr> & <chr> & <chr> & <chr>\\\\\n",
       "\\hline\n",
       "\t1 &                     & b         &           &      &  &  &  & \\\\\n",
       "\t2 &                     & b         & cond      &      &  &  &  & \\\\\n",
       "\t3 &                     & b         & STATE     &      &  &  &  & \\\\\n",
       "\t4 &                     & b         & TRAIT     &      &  &  &  & \\\\\n",
       "\t5 & lkj(2)              & cor       &           &      &  &  &  & \\\\\n",
       "\t6 &                     & cor       &           & ROI  &  &  &  & \\\\\n",
       "\t7 & gamma(3.325,0.1)    & df        &           & ROI  &  &  &  & \\\\\n",
       "\t8 & gamma(3.325,0.1)    & df        &           & Subj &  &  &  & \\\\\n",
       "\t9 & student\\_t(3, 0, 10) & Intercept &           &      &  &  &  & \\\\\n",
       "\t10 & gamma(3.325,0.1)    & nu        &           &      &  &  &  & \\\\\n",
       "\t11 & student\\_t(3, 0, 10) & sd        &           &      &  &  &  & \\\\\n",
       "\t12 &                     & sd        &           & ROI  &  &  &  & \\\\\n",
       "\t13 &                     & sd        & cond      & ROI  &  &  &  & \\\\\n",
       "\t14 &                     & sd        & Intercept & ROI  &  &  &  & \\\\\n",
       "\t15 &                     & sd        & STATE     & ROI  &  &  &  & \\\\\n",
       "\t16 &                     & sd        & TRAIT     & ROI  &  &  &  & \\\\\n",
       "\t17 &                     & sd        &           & Subj &  &  &  & \\\\\n",
       "\t18 &                     & sd        & Intercept & Subj &  &  &  & \\\\\n",
       "\\end{tabular}\n"
      ],
      "text/markdown": [
       "\n",
       "A brmsprior: 18 × 8\n",
       "\n",
       "| <!--/--> | prior &lt;chr&gt; | class &lt;chr&gt; | coef &lt;chr&gt; | group &lt;chr&gt; | resp &lt;chr&gt; | dpar &lt;chr&gt; | nlpar &lt;chr&gt; | bound &lt;chr&gt; |\n",
       "|---|---|---|---|---|---|---|---|---|\n",
       "| 1 | <!----> | b         | <!----> | <!----> | <!----> | <!----> | <!----> | <!----> |\n",
       "| 2 | <!----> | b         | cond      | <!----> | <!----> | <!----> | <!----> | <!----> |\n",
       "| 3 | <!----> | b         | STATE     | <!----> | <!----> | <!----> | <!----> | <!----> |\n",
       "| 4 | <!----> | b         | TRAIT     | <!----> | <!----> | <!----> | <!----> | <!----> |\n",
       "| 5 | lkj(2)              | cor       | <!----> | <!----> | <!----> | <!----> | <!----> | <!----> |\n",
       "| 6 | <!----> | cor       | <!----> | ROI  | <!----> | <!----> | <!----> | <!----> |\n",
       "| 7 | gamma(3.325,0.1)    | df        | <!----> | ROI  | <!----> | <!----> | <!----> | <!----> |\n",
       "| 8 | gamma(3.325,0.1)    | df        | <!----> | Subj | <!----> | <!----> | <!----> | <!----> |\n",
       "| 9 | student_t(3, 0, 10) | Intercept | <!----> | <!----> | <!----> | <!----> | <!----> | <!----> |\n",
       "| 10 | gamma(3.325,0.1)    | nu        | <!----> | <!----> | <!----> | <!----> | <!----> | <!----> |\n",
       "| 11 | student_t(3, 0, 10) | sd        | <!----> | <!----> | <!----> | <!----> | <!----> | <!----> |\n",
       "| 12 | <!----> | sd        | <!----> | ROI  | <!----> | <!----> | <!----> | <!----> |\n",
       "| 13 | <!----> | sd        | cond      | ROI  | <!----> | <!----> | <!----> | <!----> |\n",
       "| 14 | <!----> | sd        | Intercept | ROI  | <!----> | <!----> | <!----> | <!----> |\n",
       "| 15 | <!----> | sd        | STATE     | ROI  | <!----> | <!----> | <!----> | <!----> |\n",
       "| 16 | <!----> | sd        | TRAIT     | ROI  | <!----> | <!----> | <!----> | <!----> |\n",
       "| 17 | <!----> | sd        | <!----> | Subj | <!----> | <!----> | <!----> | <!----> |\n",
       "| 18 | <!----> | sd        | Intercept | Subj | <!----> | <!----> | <!----> | <!----> |\n",
       "\n"
      ],
      "text/plain": [
       "   prior               class     coef      group resp dpar nlpar bound\n",
       "1                      b                                              \n",
       "2                      b         cond                                 \n",
       "3                      b         STATE                                \n",
       "4                      b         TRAIT                                \n",
       "5  lkj(2)              cor                                            \n",
       "6                      cor                 ROI                        \n",
       "7  gamma(3.325,0.1)    df                  ROI                        \n",
       "8  gamma(3.325,0.1)    df                  Subj                       \n",
       "9  student_t(3, 0, 10) Intercept                                      \n",
       "10 gamma(3.325,0.1)    nu                                             \n",
       "11 student_t(3, 0, 10) sd                                             \n",
       "12                     sd                  ROI                        \n",
       "13                     sd        cond      ROI                        \n",
       "14                     sd        Intercept ROI                        \n",
       "15                     sd        STATE     ROI                        \n",
       "16                     sd        TRAIT     ROI                        \n",
       "17                     sd                  Subj                       \n",
       "18                     sd        Intercept Subj                       "
      ]
     },
     "metadata": {},
     "output_type": "display_data"
    }
   ],
   "source": [
    "mod = '1 + cond + STATE + TRAIT'\n",
    "modelForm = paste('beta | se(se) ~',\n",
    "                  mod,'+ (1 | gr(Subj, dist= \"student\")) +   \n",
    "                         (',mod,'| gr(ROI, dist=\"student\"))')\n",
    "priorRBA <- get_prior(formula = modelForm,data=dataTable,family = 'student')\n",
    "priorRBA$prior[5] <- \"lkj(2)\"\n",
    "priorRBA$prior[7:8] <- \"gamma(3.325,0.1)\"\n",
    "priorRBA$prior[10] <- \"gamma(3.325,0.1)\"\n",
    "priorRBA"
   ]
  },
  {
   "cell_type": "code",
   "execution_count": null,
   "metadata": {},
   "outputs": [],
   "source": [
    "mod2 <- brm(modelForm,\n",
    "          data=dataTable,\n",
    "          chains = chains,\n",
    "          family = 'student',\n",
    "          prior = priorRBA,\n",
    "          inits=0, iter=iterations, \n",
    "          control = list(adapt_delta = 0.99, max_treedepth = 15))"
   ]
  },
  {
   "cell_type": "markdown",
   "metadata": {},
   "source": [
    "## Leave one out cross-validation & model comparison"
   ]
  },
  {
   "cell_type": "code",
   "execution_count": 1,
   "metadata": {},
   "outputs": [
    {
     "ename": "ERROR",
     "evalue": "Error in add_criterion(mod1, c(\"loo\", \"waic\", \"bayes_R2\")): could not find function \"add_criterion\"\n",
     "output_type": "error",
     "traceback": [
      "Error in add_criterion(mod1, c(\"loo\", \"waic\", \"bayes_R2\")): could not find function \"add_criterion\"\nTraceback:\n"
     ]
    }
   ],
   "source": [
    "mod1 <- add_criterion(mod1,c(\"loo\",\"waic\",\"bayes_R2\"))\n",
    "mod2 <- qqadd_criterion(mod2,c(\"loo\",\"waic\",\"bayes_R2\"))"
   ]
  },
  {
   "cell_type": "code",
   "execution_count": null,
   "metadata": {},
   "outputs": [],
   "source": [
    "# Compare both models\n",
    "comparison_table <- loo_compare(mod1,mod2)\n",
    "comparison_table"
   ]
  },
  {
   "cell_type": "markdown",
   "metadata": {},
   "source": [
    "## Goodness of fit"
   ]
  },
  {
   "cell_type": "code",
   "execution_count": null,
   "metadata": {},
   "outputs": [],
   "source": [
    "R2_table <- data.frame(sapply(list(mod1,mod2), function(x) round(median(x$criteria$bayes_R2)*100, 2)),row.names = c('mod1','mod2'))\n",
    "names(R2_table) <- \"Bayes R2\"\n",
    "R2_table"
   ]
  }
 ],
 "metadata": {
  "kernelspec": {
   "display_name": "R",
   "language": "R",
   "name": "ir"
  },
  "language_info": {
   "codemirror_mode": "r",
   "file_extension": ".r",
   "mimetype": "text/x-r-source",
   "name": "R",
   "pygments_lexer": "r",
   "version": "3.6.0"
  }
 },
 "nbformat": 4,
 "nbformat_minor": 4
}
